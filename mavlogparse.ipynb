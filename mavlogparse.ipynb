{
  "nbformat": 4,
  "nbformat_minor": 0,
  "metadata": {
    "colab": {
      "name": "mavlogparse.ipynb",
      "provenance": [],
      "collapsed_sections": [
        "PpI9MZIfkVzr",
        "18lrf4uLkfGy"
      ],
      "toc_visible": true,
      "include_colab_link": true
    },
    "kernelspec": {
      "name": "python3",
      "display_name": "Python 3"
    },
    "language_info": {
      "name": "python"
    },
    "widgets": {
      "application/vnd.jupyter.widget-state+json": {
        "26281f80cdd840c4822d098b4818e742": {
          "model_module": "@jupyter-widgets/controls",
          "model_name": "ButtonModel",
          "model_module_version": "1.5.0",
          "state": {
            "_dom_classes": [],
            "_model_module": "@jupyter-widgets/controls",
            "_model_module_version": "1.5.0",
            "_model_name": "ButtonModel",
            "_view_count": null,
            "_view_module": "@jupyter-widgets/controls",
            "_view_module_version": "1.5.0",
            "_view_name": "ButtonView",
            "button_style": "",
            "description": "Done",
            "disabled": false,
            "icon": "",
            "layout": "IPY_MODEL_6c51901b9584415f849141b70c608226",
            "style": "IPY_MODEL_71b14f37c78e4aafbe3f1588a040ff37",
            "tooltip": ""
          }
        },
        "6c51901b9584415f849141b70c608226": {
          "model_module": "@jupyter-widgets/base",
          "model_name": "LayoutModel",
          "model_module_version": "1.2.0",
          "state": {
            "_model_module": "@jupyter-widgets/base",
            "_model_module_version": "1.2.0",
            "_model_name": "LayoutModel",
            "_view_count": null,
            "_view_module": "@jupyter-widgets/base",
            "_view_module_version": "1.2.0",
            "_view_name": "LayoutView",
            "align_content": null,
            "align_items": null,
            "align_self": null,
            "border": null,
            "bottom": null,
            "display": null,
            "flex": null,
            "flex_flow": null,
            "grid_area": null,
            "grid_auto_columns": null,
            "grid_auto_flow": null,
            "grid_auto_rows": null,
            "grid_column": null,
            "grid_gap": null,
            "grid_row": null,
            "grid_template_areas": null,
            "grid_template_columns": null,
            "grid_template_rows": null,
            "height": null,
            "justify_content": null,
            "justify_items": null,
            "left": null,
            "margin": null,
            "max_height": null,
            "max_width": null,
            "min_height": null,
            "min_width": null,
            "object_fit": null,
            "object_position": null,
            "order": null,
            "overflow": null,
            "overflow_x": null,
            "overflow_y": null,
            "padding": null,
            "right": null,
            "top": null,
            "visibility": null,
            "width": null
          }
        },
        "71b14f37c78e4aafbe3f1588a040ff37": {
          "model_module": "@jupyter-widgets/controls",
          "model_name": "ButtonStyleModel",
          "model_module_version": "1.5.0",
          "state": {
            "_model_module": "@jupyter-widgets/controls",
            "_model_module_version": "1.5.0",
            "_model_name": "ButtonStyleModel",
            "_view_count": null,
            "_view_module": "@jupyter-widgets/base",
            "_view_module_version": "1.2.0",
            "_view_name": "StyleView",
            "button_color": null,
            "font_weight": ""
          }
        },
        "4f35cc203e03429b9edddf7e732783de": {
          "model_module": "@jupyter-widgets/controls",
          "model_name": "DropdownModel",
          "model_module_version": "1.5.0",
          "state": {
            "_dom_classes": [],
            "_model_module": "@jupyter-widgets/controls",
            "_model_module_version": "1.5.0",
            "_model_name": "DropdownModel",
            "_options_labels": [
              "2022-07-05 12-20-52.csv",
              "Upload New"
            ],
            "_view_count": null,
            "_view_module": "@jupyter-widgets/controls",
            "_view_module_version": "1.5.0",
            "_view_name": "DropdownView",
            "description": "Select CSV:",
            "description_tooltip": null,
            "disabled": false,
            "index": 0,
            "layout": "IPY_MODEL_a8a903489a834f258b094f29203b8ef7",
            "style": "IPY_MODEL_43fc928657ed459fadb9002cbbb37d1a"
          }
        },
        "a8a903489a834f258b094f29203b8ef7": {
          "model_module": "@jupyter-widgets/base",
          "model_name": "LayoutModel",
          "model_module_version": "1.2.0",
          "state": {
            "_model_module": "@jupyter-widgets/base",
            "_model_module_version": "1.2.0",
            "_model_name": "LayoutModel",
            "_view_count": null,
            "_view_module": "@jupyter-widgets/base",
            "_view_module_version": "1.2.0",
            "_view_name": "LayoutView",
            "align_content": null,
            "align_items": null,
            "align_self": null,
            "border": null,
            "bottom": null,
            "display": null,
            "flex": null,
            "flex_flow": null,
            "grid_area": null,
            "grid_auto_columns": null,
            "grid_auto_flow": null,
            "grid_auto_rows": null,
            "grid_column": null,
            "grid_gap": null,
            "grid_row": null,
            "grid_template_areas": null,
            "grid_template_columns": null,
            "grid_template_rows": null,
            "height": null,
            "justify_content": null,
            "justify_items": null,
            "left": null,
            "margin": null,
            "max_height": null,
            "max_width": null,
            "min_height": null,
            "min_width": null,
            "object_fit": null,
            "object_position": null,
            "order": null,
            "overflow": null,
            "overflow_x": null,
            "overflow_y": null,
            "padding": null,
            "right": null,
            "top": null,
            "visibility": null,
            "width": null
          }
        },
        "43fc928657ed459fadb9002cbbb37d1a": {
          "model_module": "@jupyter-widgets/controls",
          "model_name": "DescriptionStyleModel",
          "model_module_version": "1.5.0",
          "state": {
            "_model_module": "@jupyter-widgets/controls",
            "_model_module_version": "1.5.0",
            "_model_name": "DescriptionStyleModel",
            "_view_count": null,
            "_view_module": "@jupyter-widgets/base",
            "_view_module_version": "1.2.0",
            "_view_name": "StyleView",
            "description_width": ""
          }
        }
      }
    }
  },
  "cells": [
    {
      "cell_type": "markdown",
      "metadata": {
        "id": "view-in-github",
        "colab_type": "text"
      },
      "source": [
        "<a href=\"https://colab.research.google.com/github/Kovacs37/Kovacs37/blob/main/mavlogparse.ipynb\" target=\"_parent\"><img src=\"https://colab.research.google.com/assets/colab-badge.svg\" alt=\"Open In Colab\"/></a>"
      ]
    },
    {
      "cell_type": "markdown",
      "metadata": {
        "id": "4oIjTM2lkMVx"
      },
      "source": [
        "# MAVLink Log Parser"
      ]
    },
    {
      "cell_type": "markdown",
      "metadata": {
        "id": "PpI9MZIfkVzr"
      },
      "source": [
        "## Relevant Setup (Installs/Imports)"
      ]
    },
    {
      "cell_type": "code",
      "metadata": {
        "colab": {
          "base_uri": "https://localhost:8080/"
        },
        "id": "xvxR4RdTY7_s",
        "outputId": "ae6f25f2-5ab9-4dc5-9285-7c5d1b60b1ab"
      },
      "source": [
        "!pip install pymavlink"
      ],
      "execution_count": 15,
      "outputs": [
        {
          "output_type": "stream",
          "name": "stdout",
          "text": [
            "Looking in indexes: https://pypi.org/simple, https://us-python.pkg.dev/colab-wheels/public/simple/\n",
            "Requirement already satisfied: pymavlink in /usr/local/lib/python3.7/dist-packages (2.4.29)\n",
            "Requirement already satisfied: lxml in /usr/local/lib/python3.7/dist-packages (from pymavlink) (4.2.6)\n",
            "Requirement already satisfied: future in /usr/local/lib/python3.7/dist-packages (from pymavlink) (0.16.0)\n"
          ]
        }
      ]
    },
    {
      "cell_type": "code",
      "metadata": {
        "id": "HgSJ9jVld-9p"
      },
      "source": [
        "import json\n",
        "from pathlib import Path\n",
        "from fnmatch import fnmatch\n",
        "from pymavlink import mavutil\n",
        "from google.colab import files\n",
        "from inspect import getfullargspec\n",
        "\n",
        "import ipywidgets as widgets\n",
        "from IPython.display import display\n",
        "\n",
        "def upload_one_file():\n",
        "    return next(iter(files.upload().values()))"
      ],
      "execution_count": 16,
      "outputs": []
    },
    {
      "cell_type": "markdown",
      "metadata": {
        "id": "18lrf4uLkfGy"
      },
      "source": [
        "## Parsing Code"
      ]
    },
    {
      "cell_type": "code",
      "metadata": {
        "id": "WOODwzV2eKfm"
      },
      "source": [
        "class Telemetry:\n",
        "    DEFAULT_FIELDS = {\n",
        "        'VFR_HUD'          : ['heading', 'alt', 'climb'],\n",
        "        'VIBRATION'        : [f'vibration_{axis}' for axis in 'xyz'],\n",
        "        'SCALED_IMU2'      : [s for axis in 'xyz'\n",
        "                              for s in (axis+'acc', axis+'gyro')],\n",
        "        'ATTITUDE'         : [s for rot in ('roll', 'pitch', 'yaw')\n",
        "                              for s in (rot, rot+'speed')],\n",
        "        'SCALED_PRESSURE2' : ['temperature'],\n",
        "    }\n",
        "    def __init__(self, log_file, fields=DEFAULT_FIELDS,\n",
        "                 dialect='ardupilotmega'):\n",
        "        ''' Creates a tlog parser on 'log_file', extracting 'fields'.\n",
        "        'log_file' can be a string filename/path, or pathlib.Path instance.\n",
        "        'fields' is either a dictionary in the form {'TYPE': ['attr']/None},\n",
        "            or a string filename/path to a json/text file with the same\n",
        "            structure. Specifying None (null if in a file) instead of an\n",
        "            attribute list gets all the attributes for that type.\n",
        "            Defaults to Telemetry.DEFAULT_FIELDS.\n",
        "        'dialect' is a string specifying the mavlink parsing dialect to use.\n",
        "            Default 'ardupilotmega'.\n",
        "        '''\n",
        "        self.log_file = str(log_file) # mavutil doesn't use Path \n",
        "        self.mlog = mavutil.mavlink_connection(self.log_file, dialect=dialect)\n",
        "\n",
        "        self._init_fields(fields)\n",
        "\n",
        "    def _init_fields(self, fields):\n",
        "        ''' Determine CSV fields and populate None attribute lists. '''\n",
        "        if isinstance(fields, (str, Path)):\n",
        "            with open(fields) as field_file:\n",
        "                fields = json.load(field_file)\n",
        "\n",
        "        self.csv_fields = ['timestamp']\n",
        "        nan = float('nan') # start with non-number data values\n",
        "        self.data = [nan]\n",
        "        self.offsets = {}\n",
        "        for type_, field in fields.items():\n",
        "            if field is None:\n",
        "                type_class = f'MAVLink_{type_.lower()}_message'\n",
        "                fields[type_] = \\\n",
        "                    getfullargspec(getattr(mavutil.mavlink,\n",
        "                                           type_class).__init__).args[1:]\n",
        "            self.offsets[type_] = offset = len(self.csv_fields)\n",
        "            self.csv_fields.extend(f'{type_}.{attr}' for attr in fields[type_])\n",
        "            self.data.extend(nan for _ in range(len(self.csv_fields) - offset))\n",
        "\n",
        "        self.fields = fields\n",
        "        self.type_set = set(fields) # put major fields in a set\n",
        "\n",
        "    def __enter__(self):\n",
        "        return self\n",
        "\n",
        "    def __exit__(self, *exc):\n",
        "        self.mlog.close()\n",
        "\n",
        "    def __iter__(self):\n",
        "        while \"messages available\":\n",
        "            msg = self.mlog.recv_match(type=self.type_set)\n",
        "            if not msg:\n",
        "                break\n",
        "            m_type = msg.get_type()\n",
        "\n",
        "            if m_type == 'BAD_DATA':\n",
        "                print('bad data recorded')\n",
        "                continue\n",
        "            elif not self.match_types(m_type, self.type_set):\n",
        "                # keep going if the message is the wrong type\n",
        "                # NOTE: specifically relevant because recv_match internal\n",
        "                #       'skip_to_type' function auto-includes HEARTBEAT and\n",
        "                #       PARAM_VALUE messages\n",
        "                continue\n",
        "\n",
        "            yield msg\n",
        "\n",
        "    @staticmethod\n",
        "    def match_types(m_type, patterns):\n",
        "        ''' Return True if m_type matches one of patterns.\n",
        "        'patterns' are types but case-insensitive on Windows, and with support\n",
        "            for unix-style wildcards:\n",
        "                *      -> match everything\n",
        "                ?      -> match a single character\n",
        "                [seq]  -> match any character in seq\n",
        "                [!seq] -> match any character not in seq\n",
        "        '''\n",
        "        return any(fnmatch(m_type, p) for p in patterns)\n",
        "\n",
        "    def to_csv(self, output=None, csv_sep=',', verbose=True):\n",
        "        '''\n",
        "        NOTE: opens output in append mode\n",
        "               -> can create files, but WILL NOT overwrite existing files\n",
        "                  (adds to the end instead).\n",
        "        '''\n",
        "        if output is None:\n",
        "            output = Path(self.log_file).with_suffix('.csv')\n",
        "        if verbose:\n",
        "            print(f'Processing {self.log_file}\\n  -> Saving to {output}')\n",
        "\n",
        "        last_timestamp = None\n",
        "        adding = Path(output).is_file()\n",
        "        # TODO enable stdout output for printing to terminal?\n",
        "        with self as mavlink, open(output, 'a') as out_file:\n",
        "            def write_line(data):\n",
        "                print(csv_sep.join(data), file=out_file)\n",
        "            # convert to suitable for csv output\n",
        "            self.data = [str(val) for val in self.data]\n",
        "\n",
        "            if not adding:\n",
        "                write_line(self.csv_fields) # field headings\n",
        "\n",
        "            for msg in mavlink:\n",
        "                wrote_last = False\n",
        "                timestamp = getattr(msg, '_timestamp', 0.0)\n",
        "                data = msg.to_dict()\n",
        "                if last_timestamp is not None and timestamp != last_timestamp:\n",
        "                    # new timestamp, so write latest data and timestamp\n",
        "                    self.data[0] = f'{last_timestamp:.8f}'\n",
        "                    write_line(self.data)\n",
        "                    wrote_last = True\n",
        "\n",
        "                self._update(msg.get_type(), data, convert=str)\n",
        "                last_timestamp = timestamp\n",
        "\n",
        "            try:\n",
        "                if not wrote_last: # handle last message\n",
        "                    self.data[0] = f'{last_timestamp:.8f}'\n",
        "                    write_line(self.data)\n",
        "            except UnboundLocalError:\n",
        "                print('No desired messages found in file')\n",
        "\n",
        "    def data_parser(self):\n",
        "        last_timestamp = None\n",
        "        with self as mavlink:\n",
        "            for msg in mavlink:\n",
        "                yielded_last = False\n",
        "                timestamp = getattr(msg, '_timestamp', 0.0)\n",
        "                data = msg.to_dict()\n",
        "                if last_timestamp is not None and timestamp != last_timestamp:\n",
        "                    # new timestamp, so yield latest data and timestamp\n",
        "                    self.data[0] = last_timestamp\n",
        "                    yield self.data\n",
        "                    yielded_last = True\n",
        "\n",
        "                self._update(msg.get_type(), data)\n",
        "                last_timestamp = timestamp\n",
        "\n",
        "            try:\n",
        "                if not yielded_last: # handle last message\n",
        "                    self.data[0] = last_timestamp\n",
        "                    yield self.data\n",
        "            except UnboundLocalError:\n",
        "                print('No desired messages found in file')\n",
        "\n",
        "    def _update(self, type_, data, convert=lambda d: d):\n",
        "        ''' Update with the latest data for 'type_'. '''\n",
        "        offset = self.offsets[type_]\n",
        "        for index, desired_attr in enumerate(self.fields[type_]):\n",
        "            self.data[offset+index] = convert(data[desired_attr])\n",
        "\n",
        "    @classmethod\n",
        "    def logs_to_csv(cls, output, logs, fields=DEFAULT_FIELDS, csv_sep=',',\n",
        "                    dialect='ardupilotmega', verbose=True):\n",
        "        for log in logs:\n",
        "            cls(log, fields, dialect).to_csv(output, csv_sep, verbose)\n",
        "\n",
        "    @staticmethod\n",
        "    def csv_to_df(filename, timestamp='timestamp',\n",
        "                  timezone='Australia/Melbourne', **kwargs):\n",
        "        ''' Returns a pandas dataframe of a csv-log, indexed by timestamp.\n",
        "        'filename' is the path to a csv-file, as output by Telemetry.to_csv\n",
        "        'timestamp' is the name of the timestamp column. Defaults to\n",
        "            \"timestamp\".\n",
        "        'timezone' is the location where the data was collected. Data is\n",
        "            assumed to be in UTC, and is converted to the specified timezone.\n",
        "            Defaults to 'Australia/Melbourne'.\n",
        "        'kwargs' are additional key-word arguments to pass to pandas read_csv.\n",
        "            Mostly useful for 'usecols', if not all columns are required.\n",
        "        '''\n",
        "        import pandas as pd\n",
        "\n",
        "        def parser(utc_epoch_seconds):\n",
        "            return (pd.to_datetime(utc_epoch_seconds, unit='s')\n",
        "                    .tz_localize('utc').tz_convert(timezone))\n",
        "\n",
        "        return pd.read_csv(filename, index_col=timestamp,\n",
        "                           parse_dates=[timestamp], date_parser=parser,\n",
        "                           **kwargs)\n",
        "\n",
        "    @classmethod\n",
        "    def get_useful_fields(cls, tlogs, out='useful.json', fields=None,\n",
        "                          dialect='ardupilotmega', verbose=True):\n",
        "        ''' Returns a {type: [fields]} dictionary of all non-constant fields.\n",
        "        'tlogs' should be an iterable of one or more string/Path filepaths.\n",
        "        'out' is the filename to save to. If set to None does not save.\n",
        "        'fields' a json file for a subset of fields to parse with. If left as\n",
        "            None checks all fields in the file.\n",
        "        'dialect' is the mavlink dialect in use. Default 'ardupilotmega'.\n",
        "        'verbose' a boolean determining if progress updates should be printed.\n",
        "        '''\n",
        "        mavutil.set_dialect(dialect) # set dialect so field tracker is accurate\n",
        "        fields = cls.__create_field_tracker(fields)\n",
        "        # determine fields dictionary to initialise with\n",
        "        init_fields = {type_: list(fields_)\n",
        "                       for type_, fields_ in fields.items()}\n",
        "\n",
        "        useful_types = {}\n",
        "\n",
        "        for tlog in tlogs:\n",
        "            if verbose:\n",
        "                print(f'Extracting useful fields from {tlog!r}')\n",
        "            with cls(tlog, init_fields, dialect) as mavlink:\n",
        "                for msg in mavlink:\n",
        "                    cls.__process(msg, mavlink, fields, init_fields,\n",
        "                                  useful_types)\n",
        "\n",
        "        useful_types = {t: useful_types[t] for t in sorted(useful_types)}\n",
        "\n",
        "        if out:\n",
        "            with open(out, 'w') as output:\n",
        "                json.dump(useful_types, output, indent=4)\n",
        "            if verbose:\n",
        "                print(f'  -> Saving to {output}')\n",
        "\n",
        "        return useful_types\n",
        "\n",
        "    @staticmethod\n",
        "    def __create_field_tracker(fields):\n",
        "        ''' Create a dictionary of {type: {field: None}} for specified fields.\n",
        "        If 'fields' is None gets all the types and fields from mavutil.mavlink.\n",
        "        If 'fields' is a string/Path json file, reads in and replaces any\n",
        "            None fields with all the valid fields for that type.\n",
        "        '''\n",
        "        def get_fields(type_):\n",
        "            ''' Return a dict of {field: None} for all fields of type_. '''\n",
        "            return {field: None for field in\n",
        "                    getfullargspec(getattr(mavutil.mavlink,\n",
        "                                           type_).__init__).args[1:]}\n",
        "\n",
        "        if fields is None:\n",
        "            fields = {t[8:-8].upper(): get_fields(t)\n",
        "                      for t in dir(mavutil.mavlink)\n",
        "                      if t.startswith('MAVLink_') and t.endswith('_message')}\n",
        "        elif isinstance(fields, (str, Path)):\n",
        "            fmt = 'MAVLink_{}_message'\n",
        "            with open(fields) as in_file:\n",
        "                fields = {type_: ({field: None for field in fields_} if fields_\n",
        "                                  else get_fields(fmt.format(type_.lower())))\n",
        "                          for type_, fields_ in json.load(in_file).items()}\n",
        "\n",
        "        return fields\n",
        "\n",
        "    @staticmethod\n",
        "    def __process(msg, mavlink, fields, init_fields, useful_types):\n",
        "        msg_type = msg.get_type()\n",
        "\n",
        "        to_remove = []\n",
        "        for field, data in fields[msg_type].items():\n",
        "            msg_data = getattr(msg, field)\n",
        "            if data is None:\n",
        "                fields[msg_type][field] = msg_data\n",
        "            elif msg_data != data:\n",
        "                # data changes -> useful field\n",
        "                if msg_type not in useful_types:\n",
        "                    useful_types[msg_type] = []\n",
        "                useful_types[msg_type].append(field)\n",
        "                to_remove.append(field)\n",
        "                if not fields[msg_type]:\n",
        "                    # all fields useful -> stop checking type\n",
        "                    mavlink.type_set.pop(msg_type)\n",
        "                    init_fields.pop(msg_type)\n",
        "\n",
        "        for field in to_remove:\n",
        "            fields[msg_type].pop(field)\n"
      ],
      "execution_count": 17,
      "outputs": []
    },
    {
      "cell_type": "markdown",
      "metadata": {
        "id": "Ex5GqL6ukLJl"
      },
      "source": [
        "# Your Telemetry File(s)\n",
        "\n",
        "Upload one or more `.tlog` files to analyse\n",
        "\n",
        "> **Note:** this runs in Google's cloud servers, so don't upload sensitive data.\n",
        "\n",
        "If uploading takes too long (e.g. due to large files), you may be better off [running locally](https://gist.github.com/ES-Alexander/1498c87ad6c07623f6776c552869c805#:~:text=Running%20Locally%20(on%20your%20computer)) instead."
      ]
    },
    {
      "cell_type": "code",
      "metadata": {
        "colab": {
          "resources": {
            "http://localhost:8080/nbextensions/google.colab/files.js": {
              "data": "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",
              "ok": true,
              "headers": [
                [
                  "content-type",
                  "application/javascript"
                ]
              ],
              "status": 200,
              "status_text": ""
            }
          },
          "base_uri": "https://localhost:8080/",
          "height": 73
        },
        "id": "gTh-wrTZeQCD",
        "outputId": "f8bb9843-2895-4f8f-be74-41718324c3b9"
      },
      "source": [
        "tlogs = files.upload()"
      ],
      "execution_count": 18,
      "outputs": [
        {
          "output_type": "display_data",
          "data": {
            "text/plain": [
              "<IPython.core.display.HTML object>"
            ],
            "text/html": [
              "\n",
              "     <input type=\"file\" id=\"files-a4ee9b05-1224-4531-9699-1096469566a6\" name=\"files[]\" multiple disabled\n",
              "        style=\"border:none\" />\n",
              "     <output id=\"result-a4ee9b05-1224-4531-9699-1096469566a6\">\n",
              "      Upload widget is only available when the cell has been executed in the\n",
              "      current browser session. Please rerun this cell to enable.\n",
              "      </output>\n",
              "      <script src=\"/nbextensions/google.colab/files.js\"></script> "
            ]
          },
          "metadata": {}
        },
        {
          "output_type": "stream",
          "name": "stdout",
          "text": [
            "Saving 2022-07-05 12-20-52.tlog to 2022-07-05 12-20-52 (1).tlog\n"
          ]
        }
      ]
    },
    {
      "cell_type": "markdown",
      "metadata": {
        "id": "p8y1WO0KDNKh"
      },
      "source": [
        "## Desired Fields"
      ]
    },
    {
      "cell_type": "code",
      "metadata": {
        "colab": {
          "base_uri": "https://localhost:8080/",
          "height": 225,
          "referenced_widgets": [
            "26281f80cdd840c4822d098b4818e742",
            "6c51901b9584415f849141b70c608226",
            "71b14f37c78e4aafbe3f1588a040ff37"
          ]
        },
        "id": "ddaARl3Zk2IJ",
        "outputId": "24f2d9ac-0be0-4183-a400-370d548f5a41"
      },
      "source": [
        "#@markdown ### Select Fields:\n",
        "field_selection_method = 'Extract available fields' #@param ['Use default fields', 'Extract available fields', 'Upload json fields file']\n",
        "if field_selection_method == 'Use default fields':\n",
        "    fields = Telemetry.DEFAULT_FIELDS\n",
        "    print(fields)\n",
        "elif field_selection_method == 'Extract available fields':\n",
        "    Telemetry.get_useful_fields(tlogs)\n",
        "    print('\\nModify useful.json in the file explorer from the sidebar to only')\n",
        "    print('include the fields you want. (Double-click to view/edit)\\n')\n",
        "    button = widgets.Button(description=\"Done\")\n",
        "    def submit(b):\n",
        "        global fields\n",
        "        with open('useful.json') as file:\n",
        "            fields = json.load(file)\n",
        "        print(fields)\n",
        "        print('\\nFields successfully loaded')\n",
        "    button.on_click(submit)\n",
        "    display(button)\n",
        "else:\n",
        "    print('Upload json file of desired fields:')\n",
        "    fields = json.loads(upload_one_file())"
      ],
      "execution_count": 29,
      "outputs": [
        {
          "output_type": "stream",
          "name": "stdout",
          "text": [
            "Extracting useful fields from '2022-07-05 12-20-52.tlog'\n",
            "  -> Saving to <_io.TextIOWrapper name='useful.json' mode='w' encoding='UTF-8'>\n",
            "\n",
            "Modify useful.json in the file explorer from the sidebar to only\n",
            "include the fields you want. (Double-click to view/edit)\n",
            "\n"
          ]
        },
        {
          "output_type": "display_data",
          "data": {
            "text/plain": [
              "Button(description='Done', style=ButtonStyle())"
            ],
            "application/vnd.jupyter.widget-view+json": {
              "version_major": 2,
              "version_minor": 0,
              "model_id": "26281f80cdd840c4822d098b4818e742"
            }
          },
          "metadata": {}
        },
        {
          "output_type": "stream",
          "name": "stdout",
          "text": [
            "{'AHRS': ['omegaIx', 'omegaIy', 'omegaIz', 'error_rp', 'error_yaw'], 'AHRS2': ['roll', 'pitch', 'yaw', 'altitude', 'lat', 'lng'], 'ATTITUDE': ['time_boot_ms', 'roll', 'pitch', 'yaw', 'rollspeed', 'pitchspeed', 'yawspeed'], 'COMMAND_ACK': ['command', 'result', 'target_component'], 'COMMAND_LONG': ['command', 'param1', 'param2'], 'DISTANCE_SENSOR': ['time_boot_ms'], 'EKF_STATUS_REPORT': ['pos_horiz_variance', 'pos_vert_variance', 'compass_variance', 'flags', 'velocity_variance'], 'FILE_TRANSFER_PROTOCOL': ['payload'], 'GLOBAL_POSITION_INT': ['time_boot_ms', 'hdg', 'relative_alt', 'vz', 'vx', 'vy', 'alt', 'lon', 'lat'], 'GPS_RAW_INT': ['time_usec', 'cog', 'fix_type', 'lat', 'lon', 'alt', 'eph', 'epv', 'satellites_visible', 'h_acc', 'v_acc', 'vel_acc'], 'HEARTBEAT': ['type', 'autopilot', 'base_mode', 'system_status'], 'HOME_POSITION': ['time_usec'], 'LOCAL_POSITION_NED': ['time_boot_ms', 'x', 'y', 'z', 'vx', 'vy', 'vz'], 'LOG_ENTRY': ['id'], 'LOG_REQUEST_LIST': ['start', 'end'], 'MISSION_ACK': ['mission_type'], 'MISSION_COUNT': ['mission_type'], 'MISSION_REQUEST_LIST': ['mission_type'], 'NAV_CONTROLLER_OUTPUT': ['nav_roll', 'nav_pitch', 'alt_error', 'nav_bearing'], 'PARAM_VALUE': ['param_id', 'param_value', 'param_index', 'param_type'], 'RAW_IMU': ['time_usec', 'yacc', 'temperature', 'zacc', 'xgyro', 'xacc', 'ygyro', 'zgyro'], 'RC_CHANNELS': ['time_boot_ms', 'chan3_raw'], 'REQUEST_DATA_STREAM': ['req_stream_id', 'req_message_rate'], 'SCALED_IMU2': ['time_boot_ms', 'yacc', 'temperature', 'zacc', 'xgyro', 'xacc', 'zgyro', 'ygyro'], 'SCALED_IMU3': ['time_boot_ms'], 'SCALED_PRESSURE': ['time_boot_ms', 'temperature'], 'SCALED_PRESSURE2': ['time_boot_ms', 'press_abs', 'temperature'], 'SERVO_OUTPUT_RAW': ['time_usec'], 'SIMSTATE': ['roll', 'pitch', 'xacc', 'yacc', 'xgyro', 'ygyro', 'zgyro', 'yaw', 'zacc'], 'STATUSTEXT': ['text'], 'SYSTEM_TIME': ['time_unix_usec', 'time_boot_ms'], 'SYS_STATUS': ['onboard_control_sensors_enabled', 'onboard_control_sensors_health', 'onboard_control_sensors_present'], 'TERRAIN_REPORT': ['current_height', 'lon', 'lat', 'terrain_height', 'spacing', 'loaded', 'pending'], 'TIMESYNC': ['ts1'], 'VFR_HUD': ['groundspeed', 'climb', 'heading', 'alt'], 'VIBRATION': ['time_usec', 'vibration_x', 'vibration_y', 'vibration_z']}\n",
            "\n",
            "Fields successfully loaded\n"
          ]
        }
      ]
    },
    {
      "cell_type": "markdown",
      "metadata": {
        "id": "JFbp7WrcDS7i"
      },
      "source": [
        "## Convert Log(s) to CSV(s)"
      ]
    },
    {
      "cell_type": "code",
      "metadata": {
        "colab": {
          "base_uri": "https://localhost:8080/"
        },
        "id": "QJu144l3k_3A",
        "outputId": "85d0fa53-528a-40db-f5f4-4770ac717c26"
      },
      "source": [
        "#@markdown ### Combine Output CSVs?\n",
        "combined_CSV_output_filename = \"Don't Combine\" #@param [\"Don't Combine\"] {allow-input: true}\n",
        "if combined_CSV_output_filename == \"Don't Combine\":\n",
        "    combined_CSV_output_filename = None\n",
        "print(fields)\n",
        "Telemetry.logs_to_csv(combined_CSV_output_filename, tlogs, fields)\n",
        "print('\\nRight click output csv(s) to download (from sidebar at left)')"
      ],
      "execution_count": 30,
      "outputs": [
        {
          "output_type": "stream",
          "name": "stdout",
          "text": [
            "Processing 2022-07-05 12-20-52.tlog\n",
            "  -> Saving to 2022-07-05 12-20-52.csv\n",
            "\n",
            "Right click output csv(s) to download (from sidebar at left)\n"
          ]
        }
      ]
    },
    {
      "cell_type": "markdown",
      "metadata": {
        "id": "Ue4HbeWrFReA"
      },
      "source": [
        "# Analysis"
      ]
    },
    {
      "cell_type": "markdown",
      "metadata": {
        "id": "egNnq352GF8Y"
      },
      "source": [
        "## Imports/Setup"
      ]
    },
    {
      "cell_type": "code",
      "metadata": {
        "id": "2J0cWYxNFf4k"
      },
      "source": [
        "import plotly.express as px\n",
        "import pandas as pd"
      ],
      "execution_count": 31,
      "outputs": []
    },
    {
      "cell_type": "markdown",
      "metadata": {
        "id": "mpnuAIzbGLPI"
      },
      "source": [
        "## Select File & Timezone"
      ]
    },
    {
      "cell_type": "code",
      "metadata": {
        "id": "kBYCuWGtGRxw"
      },
      "source": [
        "#@markdown ### Specify Timezone:\n",
        "timezone = 'Australia/Melbourne' #@param ['Australia/Melbourne', 'US/Eastern', 'Etc/GMT+3', 'Etc/GMT-4'] {allow-input: true}"
      ],
      "execution_count": 32,
      "outputs": []
    },
    {
      "cell_type": "code",
      "metadata": {
        "colab": {
          "base_uri": "https://localhost:8080/",
          "height": 49,
          "referenced_widgets": [
            "4f35cc203e03429b9edddf7e732783de",
            "a8a903489a834f258b094f29203b8ef7",
            "43fc928657ed459fadb9002cbbb37d1a"
          ]
        },
        "id": "aYDX9B-Gx8ex",
        "outputId": "5369f6d8-8def-4040-9d12-c1463448f15b"
      },
      "source": [
        "upload = 'Upload New'\n",
        "dropdown = widgets.Dropdown(options=(*Path().glob('*.csv'), upload),\n",
        "                            description=\"Select CSV:\")\n",
        "display(dropdown)"
      ],
      "execution_count": 37,
      "outputs": [
        {
          "output_type": "display_data",
          "data": {
            "text/plain": [
              "Dropdown(description='Select CSV:', options=(PosixPath('2022-07-05 12-20-52.csv'), 'Upload New'), value=PosixP…"
            ],
            "application/vnd.jupyter.widget-view+json": {
              "version_major": 2,
              "version_minor": 0,
              "model_id": "4f35cc203e03429b9edddf7e732783de"
            }
          },
          "metadata": {}
        }
      ]
    },
    {
      "cell_type": "code",
      "metadata": {
        "id": "NgGzW5raz32l"
      },
      "source": [
        "filename = dropdown.value\n",
        "if filename == upload:\n",
        "    filename = upload_one_file()"
      ],
      "execution_count": 38,
      "outputs": []
    },
    {
      "cell_type": "markdown",
      "metadata": {
        "id": "9CZTytwDI-W4"
      },
      "source": [
        "## Convert to DataFrame\n",
        "\n",
        "\n",
        "\n",
        "\n",
        "\n",
        "\n"
      ]
    },
    {
      "cell_type": "code",
      "metadata": {
        "id": "neWlmq8MFieR",
        "outputId": "cec231e3-73fb-4195-d88c-65322fa513f7",
        "colab": {
          "base_uri": "https://localhost:8080/",
          "height": 1000
        }
      },
      "source": [
        "df = Telemetry.csv_to_df(filename, timezone=timezone)"
      ],
      "execution_count": 39,
      "outputs": [
        {
          "output_type": "error",
          "ename": "ParserError",
          "evalue": "ignored",
          "traceback": [
            "\u001b[0;31m---------------------------------------------------------------------------\u001b[0m",
            "\u001b[0;31mParserError\u001b[0m                               Traceback (most recent call last)",
            "\u001b[0;32m<ipython-input-39-04c3d5a18b95>\u001b[0m in \u001b[0;36m<module>\u001b[0;34m()\u001b[0m\n\u001b[0;32m----> 1\u001b[0;31m \u001b[0mdf\u001b[0m \u001b[0;34m=\u001b[0m \u001b[0mTelemetry\u001b[0m\u001b[0;34m.\u001b[0m\u001b[0mcsv_to_df\u001b[0m\u001b[0;34m(\u001b[0m\u001b[0mfilename\u001b[0m\u001b[0;34m,\u001b[0m \u001b[0mtimezone\u001b[0m\u001b[0;34m=\u001b[0m\u001b[0mtimezone\u001b[0m\u001b[0;34m)\u001b[0m\u001b[0;34m\u001b[0m\u001b[0;34m\u001b[0m\u001b[0m\n\u001b[0m",
            "\u001b[0;32m<ipython-input-17-4ce8cd1d3f97>\u001b[0m in \u001b[0;36mcsv_to_df\u001b[0;34m(filename, timestamp, timezone, **kwargs)\u001b[0m\n\u001b[1;32m    184\u001b[0m         return pd.read_csv(filename, index_col=timestamp,\n\u001b[1;32m    185\u001b[0m                            \u001b[0mparse_dates\u001b[0m\u001b[0;34m=\u001b[0m\u001b[0;34m[\u001b[0m\u001b[0mtimestamp\u001b[0m\u001b[0;34m]\u001b[0m\u001b[0;34m,\u001b[0m \u001b[0mdate_parser\u001b[0m\u001b[0;34m=\u001b[0m\u001b[0mparser\u001b[0m\u001b[0;34m,\u001b[0m\u001b[0;34m\u001b[0m\u001b[0;34m\u001b[0m\u001b[0m\n\u001b[0;32m--> 186\u001b[0;31m                            **kwargs)\n\u001b[0m\u001b[1;32m    187\u001b[0m \u001b[0;34m\u001b[0m\u001b[0m\n\u001b[1;32m    188\u001b[0m     \u001b[0;34m@\u001b[0m\u001b[0mclassmethod\u001b[0m\u001b[0;34m\u001b[0m\u001b[0;34m\u001b[0m\u001b[0m\n",
            "\u001b[0;32m/usr/local/lib/python3.7/dist-packages/pandas/util/_decorators.py\u001b[0m in \u001b[0;36mwrapper\u001b[0;34m(*args, **kwargs)\u001b[0m\n\u001b[1;32m    309\u001b[0m                     \u001b[0mstacklevel\u001b[0m\u001b[0;34m=\u001b[0m\u001b[0mstacklevel\u001b[0m\u001b[0;34m,\u001b[0m\u001b[0;34m\u001b[0m\u001b[0;34m\u001b[0m\u001b[0m\n\u001b[1;32m    310\u001b[0m                 )\n\u001b[0;32m--> 311\u001b[0;31m             \u001b[0;32mreturn\u001b[0m \u001b[0mfunc\u001b[0m\u001b[0;34m(\u001b[0m\u001b[0;34m*\u001b[0m\u001b[0margs\u001b[0m\u001b[0;34m,\u001b[0m \u001b[0;34m**\u001b[0m\u001b[0mkwargs\u001b[0m\u001b[0;34m)\u001b[0m\u001b[0;34m\u001b[0m\u001b[0;34m\u001b[0m\u001b[0m\n\u001b[0m\u001b[1;32m    312\u001b[0m \u001b[0;34m\u001b[0m\u001b[0m\n\u001b[1;32m    313\u001b[0m         \u001b[0;32mreturn\u001b[0m \u001b[0mwrapper\u001b[0m\u001b[0;34m\u001b[0m\u001b[0;34m\u001b[0m\u001b[0m\n",
            "\u001b[0;32m/usr/local/lib/python3.7/dist-packages/pandas/io/parsers/readers.py\u001b[0m in \u001b[0;36mread_csv\u001b[0;34m(filepath_or_buffer, sep, delimiter, header, names, index_col, usecols, squeeze, prefix, mangle_dupe_cols, dtype, engine, converters, true_values, false_values, skipinitialspace, skiprows, skipfooter, nrows, na_values, keep_default_na, na_filter, verbose, skip_blank_lines, parse_dates, infer_datetime_format, keep_date_col, date_parser, dayfirst, cache_dates, iterator, chunksize, compression, thousands, decimal, lineterminator, quotechar, quoting, doublequote, escapechar, comment, encoding, encoding_errors, dialect, error_bad_lines, warn_bad_lines, on_bad_lines, delim_whitespace, low_memory, memory_map, float_precision, storage_options)\u001b[0m\n\u001b[1;32m    584\u001b[0m     \u001b[0mkwds\u001b[0m\u001b[0;34m.\u001b[0m\u001b[0mupdate\u001b[0m\u001b[0;34m(\u001b[0m\u001b[0mkwds_defaults\u001b[0m\u001b[0;34m)\u001b[0m\u001b[0;34m\u001b[0m\u001b[0;34m\u001b[0m\u001b[0m\n\u001b[1;32m    585\u001b[0m \u001b[0;34m\u001b[0m\u001b[0m\n\u001b[0;32m--> 586\u001b[0;31m     \u001b[0;32mreturn\u001b[0m \u001b[0m_read\u001b[0m\u001b[0;34m(\u001b[0m\u001b[0mfilepath_or_buffer\u001b[0m\u001b[0;34m,\u001b[0m \u001b[0mkwds\u001b[0m\u001b[0;34m)\u001b[0m\u001b[0;34m\u001b[0m\u001b[0;34m\u001b[0m\u001b[0m\n\u001b[0m\u001b[1;32m    587\u001b[0m \u001b[0;34m\u001b[0m\u001b[0m\n\u001b[1;32m    588\u001b[0m \u001b[0;34m\u001b[0m\u001b[0m\n",
            "\u001b[0;32m/usr/local/lib/python3.7/dist-packages/pandas/io/parsers/readers.py\u001b[0m in \u001b[0;36m_read\u001b[0;34m(filepath_or_buffer, kwds)\u001b[0m\n\u001b[1;32m    486\u001b[0m \u001b[0;34m\u001b[0m\u001b[0m\n\u001b[1;32m    487\u001b[0m     \u001b[0;32mwith\u001b[0m \u001b[0mparser\u001b[0m\u001b[0;34m:\u001b[0m\u001b[0;34m\u001b[0m\u001b[0;34m\u001b[0m\u001b[0m\n\u001b[0;32m--> 488\u001b[0;31m         \u001b[0;32mreturn\u001b[0m \u001b[0mparser\u001b[0m\u001b[0;34m.\u001b[0m\u001b[0mread\u001b[0m\u001b[0;34m(\u001b[0m\u001b[0mnrows\u001b[0m\u001b[0;34m)\u001b[0m\u001b[0;34m\u001b[0m\u001b[0;34m\u001b[0m\u001b[0m\n\u001b[0m\u001b[1;32m    489\u001b[0m \u001b[0;34m\u001b[0m\u001b[0m\n\u001b[1;32m    490\u001b[0m \u001b[0;34m\u001b[0m\u001b[0m\n",
            "\u001b[0;32m/usr/local/lib/python3.7/dist-packages/pandas/io/parsers/readers.py\u001b[0m in \u001b[0;36mread\u001b[0;34m(self, nrows)\u001b[0m\n\u001b[1;32m   1045\u001b[0m     \u001b[0;32mdef\u001b[0m \u001b[0mread\u001b[0m\u001b[0;34m(\u001b[0m\u001b[0mself\u001b[0m\u001b[0;34m,\u001b[0m \u001b[0mnrows\u001b[0m\u001b[0;34m=\u001b[0m\u001b[0;32mNone\u001b[0m\u001b[0;34m)\u001b[0m\u001b[0;34m:\u001b[0m\u001b[0;34m\u001b[0m\u001b[0;34m\u001b[0m\u001b[0m\n\u001b[1;32m   1046\u001b[0m         \u001b[0mnrows\u001b[0m \u001b[0;34m=\u001b[0m \u001b[0mvalidate_integer\u001b[0m\u001b[0;34m(\u001b[0m\u001b[0;34m\"nrows\"\u001b[0m\u001b[0;34m,\u001b[0m \u001b[0mnrows\u001b[0m\u001b[0;34m)\u001b[0m\u001b[0;34m\u001b[0m\u001b[0;34m\u001b[0m\u001b[0m\n\u001b[0;32m-> 1047\u001b[0;31m         \u001b[0mindex\u001b[0m\u001b[0;34m,\u001b[0m \u001b[0mcolumns\u001b[0m\u001b[0;34m,\u001b[0m \u001b[0mcol_dict\u001b[0m \u001b[0;34m=\u001b[0m \u001b[0mself\u001b[0m\u001b[0;34m.\u001b[0m\u001b[0m_engine\u001b[0m\u001b[0;34m.\u001b[0m\u001b[0mread\u001b[0m\u001b[0;34m(\u001b[0m\u001b[0mnrows\u001b[0m\u001b[0;34m)\u001b[0m\u001b[0;34m\u001b[0m\u001b[0;34m\u001b[0m\u001b[0m\n\u001b[0m\u001b[1;32m   1048\u001b[0m \u001b[0;34m\u001b[0m\u001b[0m\n\u001b[1;32m   1049\u001b[0m         \u001b[0;32mif\u001b[0m \u001b[0mindex\u001b[0m \u001b[0;32mis\u001b[0m \u001b[0;32mNone\u001b[0m\u001b[0;34m:\u001b[0m\u001b[0;34m\u001b[0m\u001b[0;34m\u001b[0m\u001b[0m\n",
            "\u001b[0;32m/usr/local/lib/python3.7/dist-packages/pandas/io/parsers/c_parser_wrapper.py\u001b[0m in \u001b[0;36mread\u001b[0;34m(self, nrows)\u001b[0m\n\u001b[1;32m    222\u001b[0m         \u001b[0;32mtry\u001b[0m\u001b[0;34m:\u001b[0m\u001b[0;34m\u001b[0m\u001b[0;34m\u001b[0m\u001b[0m\n\u001b[1;32m    223\u001b[0m             \u001b[0;32mif\u001b[0m \u001b[0mself\u001b[0m\u001b[0;34m.\u001b[0m\u001b[0mlow_memory\u001b[0m\u001b[0;34m:\u001b[0m\u001b[0;34m\u001b[0m\u001b[0;34m\u001b[0m\u001b[0m\n\u001b[0;32m--> 224\u001b[0;31m                 \u001b[0mchunks\u001b[0m \u001b[0;34m=\u001b[0m \u001b[0mself\u001b[0m\u001b[0;34m.\u001b[0m\u001b[0m_reader\u001b[0m\u001b[0;34m.\u001b[0m\u001b[0mread_low_memory\u001b[0m\u001b[0;34m(\u001b[0m\u001b[0mnrows\u001b[0m\u001b[0;34m)\u001b[0m\u001b[0;34m\u001b[0m\u001b[0;34m\u001b[0m\u001b[0m\n\u001b[0m\u001b[1;32m    225\u001b[0m                 \u001b[0;31m# destructive to chunks\u001b[0m\u001b[0;34m\u001b[0m\u001b[0;34m\u001b[0m\u001b[0;34m\u001b[0m\u001b[0m\n\u001b[1;32m    226\u001b[0m                 \u001b[0mdata\u001b[0m \u001b[0;34m=\u001b[0m \u001b[0m_concatenate_chunks\u001b[0m\u001b[0;34m(\u001b[0m\u001b[0mchunks\u001b[0m\u001b[0;34m)\u001b[0m\u001b[0;34m\u001b[0m\u001b[0;34m\u001b[0m\u001b[0m\n",
            "\u001b[0;32m/usr/local/lib/python3.7/dist-packages/pandas/_libs/parsers.pyx\u001b[0m in \u001b[0;36mpandas._libs.parsers.TextReader.read_low_memory\u001b[0;34m()\u001b[0m\n",
            "\u001b[0;32m/usr/local/lib/python3.7/dist-packages/pandas/_libs/parsers.pyx\u001b[0m in \u001b[0;36mpandas._libs.parsers.TextReader._read_rows\u001b[0;34m()\u001b[0m\n",
            "\u001b[0;32m/usr/local/lib/python3.7/dist-packages/pandas/_libs/parsers.pyx\u001b[0m in \u001b[0;36mpandas._libs.parsers.TextReader._tokenize_rows\u001b[0;34m()\u001b[0m\n",
            "\u001b[0;32m/usr/local/lib/python3.7/dist-packages/pandas/_libs/parsers.pyx\u001b[0m in \u001b[0;36mpandas._libs.parsers.raise_parser_error\u001b[0;34m()\u001b[0m\n",
            "\u001b[0;31mParserError\u001b[0m: Error tokenizing data. C error: Expected 137 fields in line 24205, saw 387\n"
          ]
        }
      ]
    },
    {
      "cell_type": "markdown",
      "metadata": {
        "id": "gnGl0-sBJCDy"
      },
      "source": [
        "## Plot things"
      ]
    },
    {
      "cell_type": "code",
      "metadata": {
        "id": "GpXr-sbIFyzH"
      },
      "source": [
        "# example interactive Plotly scatter plot of depth (altitude) over time\n",
        "px.line(df, x=df.index, y='VFR_HUD.alt')"
      ],
      "execution_count": null,
      "outputs": []
    }
  ]
}